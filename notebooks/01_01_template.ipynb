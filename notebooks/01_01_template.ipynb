{
 "cells": [
  {
   "cell_type": "markdown",
   "id": "3ee9ef37",
   "metadata": {},
   "source": [
    "# Setup notebooks"
   ]
  },
  {
   "cell_type": "markdown",
   "id": "e05ae3c8",
   "metadata": {},
   "source": [
    "### General libraries"
   ]
  },
  {
   "cell_type": "code",
   "execution_count": null,
   "id": "97160c50",
   "metadata": {},
   "outputs": [],
   "source": [
    "import os\n",
    "import sys\n",
    "import numpy as np\n",
    "import pandas as pd\n",
    "\n",
    "from os.path import join\n",
    "\n",
    "pd.set_option(\"display.max_columns\", None)\n",
    "pd.options.display.float_format = '{:,.2f}'.format"
   ]
  },
  {
   "cell_type": "markdown",
   "id": "9f5c5eb8",
   "metadata": {},
   "source": [
    "### Logging"
   ]
  },
  {
   "cell_type": "code",
   "execution_count": null,
   "id": "d9760f76",
   "metadata": {},
   "outputs": [],
   "source": [
    "import logging\n",
    "\n",
    "logging.basicConfig(format='%(asctime)s - %(message)s', level=logging.INFO)\n",
    "logger = logging.getLogger(__name__)"
   ]
  },
  {
   "cell_type": "markdown",
   "id": "d5717100",
   "metadata": {},
   "source": [
    "### Configuration conecction to DB"
   ]
  },
  {
   "cell_type": "code",
   "execution_count": null,
   "id": "da01278a",
   "metadata": {},
   "outputs": [],
   "source": [
    "import logging\n",
    "import os\n",
    "import pathlib\n",
    "from io import BytesIO\n",
    "from azure.identity import AzureCliCredential\n",
    "from azure.storage.filedatalake import DataLakeServiceClient, DataLakeDirectoryClient, DataLakeFileClient\n",
    "\n",
    "\n",
    "class AzureDataLakeGen2:\n",
    "    \"\"\"\n",
    "    This class encapsulates Data Backup Export methods and variables.\n",
    "    Can be imported to read and write CSV files and SAV files to Azure Data Lake.\n",
    "    \"\"\"\n",
    "\n",
    "    def __init__(self, container_name: str = \"advanced-analytics\", storage_account_name: str = \"prodazesqubi\"):\n",
    "        \"\"\"\n",
    "        Initializes an instance of AzureDataLakeGen2 with the provided container name and storage account name.\n",
    "\n",
    "        :param container_name: The name of the container in Azure Data Lake.\n",
    "        :param storage_account_name: The name of the storage account in Azure Data Lake.\n",
    "        \"\"\"\n",
    "        self.account_url = f\"https://{storage_account_name}.dfs.core.windows.net/\"\n",
    "        self.cli_credential = AzureCliCredential()\n",
    "        self.datalake_service_client = DataLakeServiceClient(account_url=self.account_url, credential=self.cli_credential,\n",
    "                                                             proxies={ \"https\": \"http://gdp-squid-proxy.dsp1.we1.azure.aztec.cloud.allianz\"})\n",
    "        self.file_system_client = self.datalake_service_client.get_file_system_client(file_system=container_name)\n",
    "        \n",
    "        # Logging configuration\n",
    "        self.logger = logging.getLogger(\"azure.core.pipeline.policies.http_logging_policy\")\n",
    "        self.logger.setLevel(logging.WARNING)\n",
    "\n",
    "    @staticmethod\n",
    "    def _get_file_name(file_path: str) -> str:\n",
    "        \"\"\"\n",
    "        Extracts the file name from a given file path.\n",
    "\n",
    "        :param file_path: The file path to extract the file name from.\n",
    "        :return: The file name.\n",
    "        \"\"\"\n",
    "        path = pathlib.Path(file_path)\n",
    "        return str(pathlib.Path(*path.parts[1:]))\n",
    "\n",
    "    def _create_file_client(self, file_path: str) -> DataLakeFileClient:\n",
    "        \"\"\"\n",
    "        Creates a new DataLakeFileClient for the given file path.\n",
    "\n",
    "        :param file_path: The file path to create the DataLakeFileClient for.\n",
    "        :return: The DataLakeFileClient.\n",
    "        \"\"\"\n",
    "        path_str_list = file_path.split(\"/\")\n",
    "        directory_client = self.file_system_client.get_directory_client(f\"{path_str_list[0]}\")\n",
    "        return directory_client.create_file(self._get_file_name(file_path))\n",
    "\n",
    "    def _get_file_client(self, file_path: str) -> DataLakeFileClient:\n",
    "        \"\"\"\n",
    "        Gets the DataLakeFileClient for the given file path.\n",
    "\n",
    "        :param file_path: The file path to get the DataLakeFileClient for.\n",
    "        :return: The DataLakeFileClient.\n",
    "        \"\"\"\n",
    "        path_str_list = file_path.split(\"/\")\n",
    "        directory_client = self.file_system_client.get_directory_client(f\"{path_str_list[0]}\")\n",
    "        return directory_client.get_file_client(self._get_file_name(file_path))\n",
    "\n",
    "    def write_file_to_blob(self, file_path: str, data: bytes) -> None:\n",
    "        \"\"\"\n",
    "        Writes the provided data to the specified file in Azure Data Lake.\n",
    "\n",
    "        :param file_path: The file path to write the data to.\n",
    "        :param data: The data to write.\n",
    "        \"\"\"\n",
    "        file_write_client = self._create_file_client(file_path.replace(\"\\\\\", \"/\"))\n",
    "        file_write_client.upload_data(data, len(data), overwrite=True)\n",
    "        self.logger.info(f\"Wrote data to file {file_path}\")\n",
    "\n",
    "    def write_model_to_blob(self, file_path: str, data=None):\n",
    "        \"\"\"\n",
    "        Uploads the given binary data to the specified file path in the Data Lake file system.\n",
    "\n",
    "        :param file_path: str - The file path to upload the data to.\n",
    "        :param data: bytes - The binary data to upload.\n",
    "        \"\"\"\n",
    "        file_path = file_path.replace(\"\\\\\", \"/\")\n",
    "        with self._create_file_client(file_path) as file_write_client:\n",
    "            file_write_client.upload_data(data, overwrite=True)\n",
    "\n",
    "    def read_raw_file(self, file_path: str):\n",
    "        \"\"\"\n",
    "        Downloads the contents of the file at the given file path in the Data Lake file system as bytes.\n",
    "\n",
    "        :param file_path: str - The file path to download.\n",
    "        :return: BytesIO - A BytesIO object containing the downloaded file contents.\n",
    "        \"\"\"\n",
    "        file_path = file_path.replace(\"\\\\\", \"/\")\n",
    "        with self._get_file_client(file_path) as file_client:\n",
    "            download = file_client.download_file()\n",
    "            download_bytes = download.readall()\n",
    "        return BytesIO(download_bytes)"
   ]
  },
  {
   "cell_type": "code",
   "execution_count": null,
   "id": "263f5d82",
   "metadata": {},
   "outputs": [],
   "source": [
    "!az login"
   ]
  },
  {
   "cell_type": "code",
   "execution_count": null,
   "id": "2b7496c7",
   "metadata": {},
   "outputs": [],
   "source": [
    "dl = AzureDataLakeGen2(container_name='gensop', storage_account_name='prodazesbisas')"
   ]
  },
  {
   "cell_type": "code",
   "execution_count": null,
   "id": "97771edc",
   "metadata": {},
   "outputs": [],
   "source": [
    "byte_io = dl.read_raw_file('AGENTES/HISTORIC/AGENTES_202304.parquet')"
   ]
  },
  {
   "cell_type": "code",
   "execution_count": null,
   "id": "d00eda1c",
   "metadata": {},
   "outputs": [],
   "source": [
    "import pandas as pd\n",
    "\n",
    "df = pd.read_parquet(byte_io)"
   ]
  },
  {
   "cell_type": "code",
   "execution_count": null,
   "id": "c409c099",
   "metadata": {},
   "outputs": [],
   "source": [
    "df"
   ]
  },
  {
   "cell_type": "code",
   "execution_count": null,
   "id": "7a73765b",
   "metadata": {},
   "outputs": [],
   "source": []
  }
 ],
 "metadata": {
  "kernelspec": {
   "display_name": "Python 3 (ipykernel)",
   "language": "python",
   "name": "python3"
  },
  "language_info": {
   "codemirror_mode": {
    "name": "ipython",
    "version": 3
   },
   "file_extension": ".py",
   "mimetype": "text/x-python",
   "name": "python",
   "nbconvert_exporter": "python",
   "pygments_lexer": "ipython3",
   "version": "3.9.16"
  }
 },
 "nbformat": 4,
 "nbformat_minor": 5
}
